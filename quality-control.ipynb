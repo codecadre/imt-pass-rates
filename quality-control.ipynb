{
 "cells": [
  {
   "cell_type": "markdown",
   "id": "4a982a44-0ca7-4fca-b850-4d89841289c9",
   "metadata": {},
   "source": [
    "# Pass Rates Quality Control\n",
    "\n",
    "We parsed the data at `parse.ipynb`, but that was just the first step. How do we know the data was correctly parsed? The current notebook serves that purpose.\n",
    "\n",
    "The strategy is to compare the sum of each extracted column with the summary row or other PDF sources. Pass rates requires an extra step, namely, calculating the number of exams passed `(exams passed = rate * exams done)`, and then comparing the sum of this extra column with the summary.\n",
    "\n",
    "A few things complicate the task:\n",
    "- Each yearly PDF release was done slightly differently, so the way in which we check if data was correctly parsed also differs.\n",
    "- Data inconsistencies show up in the PDF.\n",
    "\n",
    "The point of this step is to check if data was parsed correctly, **we will not be fixing any data**."
   ]
  },
  {
   "cell_type": "code",
   "execution_count": 87,
   "id": "cc239d8e-20f3-45c2-8c19-0c336d069274",
   "metadata": {},
   "outputs": [],
   "source": [
    "import pandas as pd\n",
    "import math"
   ]
  },
  {
   "cell_type": "code",
   "execution_count": 88,
   "id": "59ea6c99-2784-4d7c-8194-fed5683577d6",
   "metadata": {},
   "outputs": [],
   "source": [
    "summaries = pd.read_pickle(\"summaries.pkl\")\n",
    "pass_rates_tables = pd.read_pickle(\"parsed-data/db.pkl\")"
   ]
  },
  {
   "cell_type": "markdown",
   "id": "853973d5-c2c7-44e1-ba77-6e00e45cdee3",
   "metadata": {},
   "source": [
    "## 2015"
   ]
  },
  {
   "cell_type": "code",
   "execution_count": 82,
   "id": "404ec82b-9163-4aac-a232-9f26a5396d0f",
   "metadata": {},
   "outputs": [
    {
     "data": {
      "text/plain": [
       "nec                       <NA>\n",
       "name_raw           Total Geral\n",
       "t_scheduled             181897\n",
       "t_done                  176487\n",
       "t_rate                  0.7157\n",
       "d_scheduled             185379\n",
       "d_done                  181441\n",
       "d_rate                  0.6957\n",
       "total_scheduled         367276\n",
       "total_done              357928\n",
       "total_rate              0.7055\n",
       "Name: (2015, 1099), dtype: object"
      ]
     },
     "execution_count": 82,
     "metadata": {},
     "output_type": "execute_result"
    }
   ],
   "source": [
    "summary2015 = summaries.loc[\"2015\",1099]\n",
    "summary2015"
   ]
  },
  {
   "cell_type": "code",
   "execution_count": 235,
   "id": "24ff6f89-3a6a-427c-a3ba-9a95327c2331",
   "metadata": {},
   "outputs": [],
   "source": [
    "pass_rates_2015 = pass_rates_tables.loc[\"2015\"].copy()\n",
    "\n",
    "assert(summary2015[\"d_done\"] == pass_rates_2015[\"d_done\"].sum())\n",
    "assert(summary2015[\"t_done\"] == pass_rates_2015[\"t_done\"].sum())\n",
    "assert(summary2015[\"total_done\"] == pass_rates_2015[\"total_done\"].sum())\n",
    "assert(summary2015[\"d_scheduled\"] == pass_rates_2015[\"d_scheduled\"].sum())\n",
    "assert(summary2015[\"t_scheduled\"] == pass_rates_2015[\"t_scheduled\"].sum())\n",
    "assert(summary2015[\"total_scheduled\"] == pass_rates_2015[\"total_scheduled\"].sum())"
   ]
  },
  {
   "cell_type": "markdown",
   "id": "84f9aa48-f904-4f34-a6ab-f8ecd0e45ec0",
   "metadata": {},
   "source": [
    "Checking the pass rates columns requires a bit more work, as we want to derive the number of exams approved and compare that with the summary. "
   ]
  },
  {
   "cell_type": "code",
   "execution_count": 121,
   "id": "5e8a6c3d-54fd-4cf3-b724-6806072aba9e",
   "metadata": {},
   "outputs": [],
   "source": [
    "# Theory pass rates columns first\n",
    "theory_passed_2015 = pass_rates_2015['t_done'].multiply(pass_rates_2015['t_rate'], fill_value = 0).sum()\n",
    "summary_theory_passed_2015 = summary2015.loc[\"t_done\"] * summary2015.loc[\"t_rate\"]\n",
    "\n",
    "assert(int(theory_pass_rate_2015) == int(summary_theory_pass_rate_2015))"
   ]
  },
  {
   "cell_type": "markdown",
   "id": "aaabff2d-e62f-4ca5-b508-afc754b77d43",
   "metadata": {},
   "source": [
    "Applying the same logic to the driving pass rate columns shows that our aggregate is off by 45 exams passed. "
   ]
  },
  {
   "cell_type": "code",
   "execution_count": 122,
   "id": "aeddd77b-1f1d-49fc-bc1a-028930cb8514",
   "metadata": {},
   "outputs": [
    {
     "name": "stdout",
     "output_type": "stream",
     "text": [
      "Driving passed is off by 45 exams.\n"
     ]
    }
   ],
   "source": [
    "driving_passed_2015 = int(pass_rates_2015['d_done'].multiply(pass_rates_2015['d_rate'], fill_value = 0).sum())\n",
    "summary_driving_passed_2015 = int(summary2015.loc[\"d_done\"] * summary2015.loc[\"d_rate\"])\n",
    "print(\"Driving passed is off by\", summary_driving_passed_2015 - driving_passed_2015, \"exams.\")"
   ]
  },
  {
   "cell_type": "markdown",
   "id": "cb0d1be2-17e9-49e6-a563-51b150952efc",
   "metadata": {},
   "source": [
    "A rounding error would be a much smaller deviation. \n",
    "We have an accuracy of 2 decimal places, which means the actual pass rate can go anywhere from 0.69565 to 0.69574. That gives us a much smaller deviation than the one we found."
   ]
  },
  {
   "cell_type": "code",
   "execution_count": 114,
   "id": "74a80536-508a-481b-a237-31f05649c803",
   "metadata": {},
   "outputs": [
    {
     "data": {
      "text/plain": [
       "16.32969000000626"
      ]
     },
     "execution_count": 114,
     "metadata": {},
     "output_type": "execute_result"
    }
   ],
   "source": [
    "summary2015.loc[\"d_done\"] * (0.69574 - 0.69565)"
   ]
  },
  {
   "cell_type": "markdown",
   "id": "5e54101f-f747-4e25-9477-da673e791c0c",
   "metadata": {},
   "source": [
    "Let's now check for internal consistency by calculating a new total pass rate column, derived from the previous two. Any deviation should give us a clue to what the bad row is."
   ]
  },
  {
   "cell_type": "code",
   "execution_count": 135,
   "id": "70ce446d-18bf-4bc7-a797-1523eacf8c97",
   "metadata": {},
   "outputs": [],
   "source": []
  },
  {
   "cell_type": "code",
   "execution_count": 218,
   "id": "0532c31d-8eea-4e28-96a0-ffa597a04ec4",
   "metadata": {},
   "outputs": [
    {
     "name": "stdout",
     "output_type": "stream",
     "text": [
      "regimento-de-sapadores-bombeiros-de-lisboa-03006\n",
      "sind-xxxxx\n"
     ]
    }
   ],
   "source": [
    "pass_rates_2015[\"total_rate_calculated\"] = (pass_rates_2015[\"t_done\"].multiply(pass_rates_2015[\"t_rate\"],fill_value = 0)\n",
    "                                            .add(pass_rates_2015[\"d_done\"].multiply(pass_rates_2015[\"d_rate\"],fill_value = 0))\n",
    "                                            .divide(pass_rates_2015[\"d_done\"].add(pass_rates_2015[\"t_done\"])))\n",
    "\n",
    "for index, row in pass_rates_2015.iterrows():\n",
    "    if pd.isna(row[\"total_rate\"]) or pd.isna(row[\"total_rate_calculated\"]):\n",
    "        print(row.name)\n",
    "    elif  abs(row[\"total_rate_calculated\"] - row[\"total_rate\"]) > 0.0001:\n",
    "        print(row.name)"
   ]
  },
  {
   "cell_type": "markdown",
   "id": "c5eedaa5-230c-4487-a0f4-de81b0cfa089",
   "metadata": {},
   "source": [
    "These two rows have discrepancies, so lets look at them"
   ]
  },
  {
   "cell_type": "code",
   "execution_count": 237,
   "id": "c9c5a51c-3046-4291-b6e7-9633aa2dfe1c",
   "metadata": {},
   "outputs": [
    {
     "data": {
      "text/plain": [
       "nec                                                             3006\n",
       "name_raw           Escola Do Regimento De Sapadores Bombeiros De ...\n",
       "t_scheduled                                                      0.0\n",
       "t_done                                                           0.0\n",
       "t_rate                                                           NaN\n",
       "d_scheduled                                                       38\n",
       "d_done                                                            37\n",
       "d_rate                                                           NaN\n",
       "total_scheduled                                                   38\n",
       "total_done                                                        37\n",
       "total_rate                                                       1.0\n",
       "total_passed                                                     0.0\n",
       "Name: regimento-de-sapadores-bombeiros-de-lisboa-03006, dtype: object"
      ]
     },
     "execution_count": 237,
     "metadata": {},
     "output_type": "execute_result"
    }
   ],
   "source": [
    "pd.set_option('display.max_columns', None)\n",
    "pd.set_option('display.max_rows', None)\n",
    "\n",
    "pass_rates_2015.loc[\"regimento-de-sapadores-bombeiros-de-lisboa-03006\"]"
   ]
  },
  {
   "cell_type": "code",
   "execution_count": 217,
   "id": "66983540-512f-4a67-8259-acaa2c6493c0",
   "metadata": {},
   "outputs": [
    {
     "data": {
      "text/plain": [
       "nec                        <NA>\n",
       "name_raw                 S/IND.\n",
       "t_scheduled              1445.0\n",
       "t_done                   1295.0\n",
       "t_rate                   0.7228\n",
       "d_scheduled                   0\n",
       "d_done                     <NA>\n",
       "d_rate                      NaN\n",
       "total_scheduled            1445\n",
       "total_done                 1295\n",
       "total_rate               0.7228\n",
       "total_passed              936.0\n",
       "total_rate_calculated      <NA>\n",
       "Name: sind-xxxxx, dtype: object"
      ]
     },
     "execution_count": 217,
     "metadata": {},
     "output_type": "execute_result"
    }
   ],
   "source": [
    "pass_rates_2015.loc[\"sind-xxxxx\"]"
   ]
  },
  {
   "cell_type": "markdown",
   "id": "2a3b207d-7f10-4c44-95af-075c93329f4b",
   "metadata": {},
   "source": [
    "The issue is that school 3006 has a theory pass rate of 0, a driving pass rate of NaN and a total_rate of 1. This is inconsistent, so let's remove this school from the data set and fix the pass rate.\n",
    "\n",
    "We'll redo the calcs assuming the summary pass rate would remain approximate with one less school. "
   ]
  },
  {
   "cell_type": "code",
   "execution_count": 236,
   "id": "599e8ad5-5ba7-4977-a641-420b334b2fdb",
   "metadata": {},
   "outputs": [],
   "source": [
    "pass_rates_2015_ = pass_rates_2015.drop(index=\"regimento-de-sapadores-bombeiros-de-lisboa-03006\")"
   ]
  },
  {
   "cell_type": "code",
   "execution_count": 246,
   "id": "79f17e4e-6419-4e4a-90e1-95fe65f74948",
   "metadata": {},
   "outputs": [
    {
     "name": "stdout",
     "output_type": "stream",
     "text": [
      "Driving passed is off by 19 exams.\n"
     ]
    }
   ],
   "source": [
    "# \"_\" just means corrected\n",
    "driving_passed_2015_ = int(pass_rates_2015_['d_done'].multiply(pass_rates_2015_['d_rate'], fill_value = 0).sum())\n",
    "summary_driving_passed_2015_ = int((summary2015.loc[\"d_done\"] - 37 )* summary2015.loc[\"d_rate\"]) \n",
    "print(\"Driving passed is off by\", summary_driving_passed_2015_ - driving_passed_2015_, \"exams.\")"
   ]
  },
  {
   "cell_type": "markdown",
   "id": "9f8d162c-715d-41a9-b26a-dbfb7fc666be",
   "metadata": {},
   "source": [
    "Which is much closer to the tolerance of 16 exams we calculated above. Applying the same logic to total rates."
   ]
  },
  {
   "cell_type": "code",
   "execution_count": 241,
   "id": "c6c526e8-ebcb-49f5-b3b5-105d80261b26",
   "metadata": {},
   "outputs": [
    {
     "name": "stdout",
     "output_type": "stream",
     "text": [
      "Total passed is off by 3 exams.\n"
     ]
    }
   ],
   "source": [
    "total_passed_2015_ = int(pass_rates_2015_['total_done'].multiply(pass_rates_2015_['total_rate'], fill_value = 0).sum())\n",
    "summary_total_passed_2015_ = int((summary2015.loc[\"total_done\"] - 37 )* summary2015.loc[\"total_rate\"]) \n",
    "print(\"Total passed is off by\", abs(summary_total_passed_2015_ - total_passed_2015_), \"exams.\")"
   ]
  },
  {
   "cell_type": "markdown",
   "id": "6662bf1d-c38d-4fc3-a53f-e20b3c4e8e37",
   "metadata": {},
   "source": [
    "It's satisfactory given that we're extracting rounded numbers. "
   ]
  },
  {
   "cell_type": "markdown",
   "id": "e3231831-8a2e-4e3f-ab9d-dde93bb2aa8e",
   "metadata": {},
   "source": [
    "# 2016"
   ]
  }
 ],
 "metadata": {
  "kernelspec": {
   "display_name": "Python 3 (ipykernel)",
   "language": "python",
   "name": "python3"
  },
  "language_info": {
   "codemirror_mode": {
    "name": "ipython",
    "version": 3
   },
   "file_extension": ".py",
   "mimetype": "text/x-python",
   "name": "python",
   "nbconvert_exporter": "python",
   "pygments_lexer": "ipython3",
   "version": "3.11.3"
  }
 },
 "nbformat": 4,
 "nbformat_minor": 5
}
