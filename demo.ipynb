{
 "cells": [
  {
   "cell_type": "code",
   "execution_count": 34,
   "id": "e33d74f4-9cee-40c5-87f4-478a8b26054d",
   "metadata": {},
   "outputs": [],
   "source": [
    "import tabula\n",
    "import pandas as pd\n",
    "import numpy as np\n",
    "from unidecode import unidecode\n",
    "import matplotlib.pyplot as plt"
   ]
  },
  {
   "cell_type": "markdown",
   "id": "29c6d656-be7c-43e8-85d9-240479fd23fd",
   "metadata": {},
   "source": [
    "## Load data"
   ]
  },
  {
   "cell_type": "code",
   "execution_count": 35,
   "id": "23e7141c-20a5-449a-9e8e-09e2a76fd6eb",
   "metadata": {},
   "outputs": [],
   "source": [
    "T = pd.read_pickle(\"parsed-data/db.pkl\")"
   ]
  },
  {
   "cell_type": "markdown",
   "id": "21dcf442-7431-4f81-8619-3d85815d4c39",
   "metadata": {},
   "source": [
    "## Find a school in the data set"
   ]
  },
  {
   "cell_type": "code",
   "execution_count": 36,
   "id": "5f2a17ad-4393-48d2-8b0b-cfac70ac18bd",
   "metadata": {},
   "outputs": [
    {
     "data": {
      "text/html": [
       "<div>\n",
       "<style scoped>\n",
       "    .dataframe tbody tr th:only-of-type {\n",
       "        vertical-align: middle;\n",
       "    }\n",
       "\n",
       "    .dataframe tbody tr th {\n",
       "        vertical-align: top;\n",
       "    }\n",
       "\n",
       "    .dataframe thead th {\n",
       "        text-align: right;\n",
       "    }\n",
       "</style>\n",
       "<table border=\"1\" class=\"dataframe\">\n",
       "  <thead>\n",
       "    <tr style=\"text-align: right;\">\n",
       "      <th></th>\n",
       "      <th></th>\n",
       "      <th>nec</th>\n",
       "      <th>name_raw</th>\n",
       "      <th>t_scheduled</th>\n",
       "      <th>t_done</th>\n",
       "      <th>t_rate</th>\n",
       "      <th>d_scheduled</th>\n",
       "      <th>d_done</th>\n",
       "      <th>d_rate</th>\n",
       "      <th>total_scheduled</th>\n",
       "      <th>total_done</th>\n",
       "      <th>total_rate</th>\n",
       "      <th>total_passed</th>\n",
       "    </tr>\n",
       "    <tr>\n",
       "      <th></th>\n",
       "      <th>k</th>\n",
       "      <th></th>\n",
       "      <th></th>\n",
       "      <th></th>\n",
       "      <th></th>\n",
       "      <th></th>\n",
       "      <th></th>\n",
       "      <th></th>\n",
       "      <th></th>\n",
       "      <th></th>\n",
       "      <th></th>\n",
       "      <th></th>\n",
       "      <th></th>\n",
       "    </tr>\n",
       "  </thead>\n",
       "  <tbody>\n",
       "    <tr>\n",
       "      <th>2015</th>\n",
       "      <th>automovel-club-de-portugal-00001</th>\n",
       "      <td>1</td>\n",
       "      <td>Escola De Condução Automovel Club De Portugal</td>\n",
       "      <td>308.0</td>\n",
       "      <td>282.0</td>\n",
       "      <td>0.8050</td>\n",
       "      <td>332</td>\n",
       "      <td>328</td>\n",
       "      <td>0.6860</td>\n",
       "      <td>640</td>\n",
       "      <td>610</td>\n",
       "      <td>0.7410</td>\n",
       "      <td>452.018</td>\n",
       "    </tr>\n",
       "    <tr>\n",
       "      <th>2016</th>\n",
       "      <th>automovel-club-de-portugal-00001</th>\n",
       "      <td>1</td>\n",
       "      <td>Escola De Condução Automovel Club De Portugal</td>\n",
       "      <td>314.0</td>\n",
       "      <td>302.0</td>\n",
       "      <td>0.8013</td>\n",
       "      <td>363</td>\n",
       "      <td>359</td>\n",
       "      <td>0.6602</td>\n",
       "      <td>677</td>\n",
       "      <td>661</td>\n",
       "      <td>0.7247</td>\n",
       "      <td>479.0044</td>\n",
       "    </tr>\n",
       "    <tr>\n",
       "      <th>2017</th>\n",
       "      <th>automovel-club-de-portugal-00001</th>\n",
       "      <td>1</td>\n",
       "      <td>Escola De Condução Automovel Club De Portugal</td>\n",
       "      <td>332.0</td>\n",
       "      <td>318.0</td>\n",
       "      <td>0.8050</td>\n",
       "      <td>421</td>\n",
       "      <td>411</td>\n",
       "      <td>0.6521</td>\n",
       "      <td>753</td>\n",
       "      <td>729</td>\n",
       "      <td>0.7188</td>\n",
       "      <td>524.0031</td>\n",
       "    </tr>\n",
       "    <tr>\n",
       "      <th>2018</th>\n",
       "      <th>automovel-club-de-portugal-00001</th>\n",
       "      <td>1</td>\n",
       "      <td>Escola De Condução Automovel Club De Portugal</td>\n",
       "      <td>357.0</td>\n",
       "      <td>336.0</td>\n",
       "      <td>0.8006</td>\n",
       "      <td>404</td>\n",
       "      <td>399</td>\n",
       "      <td>0.6942</td>\n",
       "      <td>761</td>\n",
       "      <td>735</td>\n",
       "      <td>0.7429</td>\n",
       "      <td>545.9874</td>\n",
       "    </tr>\n",
       "    <tr>\n",
       "      <th>2019</th>\n",
       "      <th>automovel-club-de-portugal-00001</th>\n",
       "      <td>1</td>\n",
       "      <td>ESCOLA DE CONDUÇÃO AUTOMOVEL CLUB DE PORTUGAL</td>\n",
       "      <td>384.0</td>\n",
       "      <td>356.0</td>\n",
       "      <td>0.8062</td>\n",
       "      <td>393</td>\n",
       "      <td>386</td>\n",
       "      <td>0.7124</td>\n",
       "      <td>777</td>\n",
       "      <td>742</td>\n",
       "      <td>0.7574</td>\n",
       "      <td>561.9936</td>\n",
       "    </tr>\n",
       "    <tr>\n",
       "      <th>2020</th>\n",
       "      <th>automovel-club-de-portugal-00001</th>\n",
       "      <td>1</td>\n",
       "      <td>ESCOLA DE CONDUÇÃO AUTOMOVEL CLUB DE PORTUGAL</td>\n",
       "      <td>382.0</td>\n",
       "      <td>342.0</td>\n",
       "      <td>0.8012</td>\n",
       "      <td>383</td>\n",
       "      <td>347</td>\n",
       "      <td>0.6801</td>\n",
       "      <td>765</td>\n",
       "      <td>689</td>\n",
       "      <td>0.7402</td>\n",
       "      <td>510.0051</td>\n",
       "    </tr>\n",
       "  </tbody>\n",
       "</table>\n",
       "</div>"
      ],
      "text/plain": [
       "                                       nec  \\\n",
       "     k                                       \n",
       "2015 automovel-club-de-portugal-00001    1   \n",
       "2016 automovel-club-de-portugal-00001    1   \n",
       "2017 automovel-club-de-portugal-00001    1   \n",
       "2018 automovel-club-de-portugal-00001    1   \n",
       "2019 automovel-club-de-portugal-00001    1   \n",
       "2020 automovel-club-de-portugal-00001    1   \n",
       "\n",
       "                                                                            name_raw  \\\n",
       "     k                                                                                 \n",
       "2015 automovel-club-de-portugal-00001  Escola De Condução Automovel Club De Portugal   \n",
       "2016 automovel-club-de-portugal-00001  Escola De Condução Automovel Club De Portugal   \n",
       "2017 automovel-club-de-portugal-00001  Escola De Condução Automovel Club De Portugal   \n",
       "2018 automovel-club-de-portugal-00001  Escola De Condução Automovel Club De Portugal   \n",
       "2019 automovel-club-de-portugal-00001  ESCOLA DE CONDUÇÃO AUTOMOVEL CLUB DE PORTUGAL   \n",
       "2020 automovel-club-de-portugal-00001  ESCOLA DE CONDUÇÃO AUTOMOVEL CLUB DE PORTUGAL   \n",
       "\n",
       "                                       t_scheduled  t_done  t_rate  \\\n",
       "     k                                                               \n",
       "2015 automovel-club-de-portugal-00001        308.0   282.0  0.8050   \n",
       "2016 automovel-club-de-portugal-00001        314.0   302.0  0.8013   \n",
       "2017 automovel-club-de-portugal-00001        332.0   318.0  0.8050   \n",
       "2018 automovel-club-de-portugal-00001        357.0   336.0  0.8006   \n",
       "2019 automovel-club-de-portugal-00001        384.0   356.0  0.8062   \n",
       "2020 automovel-club-de-portugal-00001        382.0   342.0  0.8012   \n",
       "\n",
       "                                       d_scheduled  d_done  d_rate  \\\n",
       "     k                                                               \n",
       "2015 automovel-club-de-portugal-00001          332     328  0.6860   \n",
       "2016 automovel-club-de-portugal-00001          363     359  0.6602   \n",
       "2017 automovel-club-de-portugal-00001          421     411  0.6521   \n",
       "2018 automovel-club-de-portugal-00001          404     399  0.6942   \n",
       "2019 automovel-club-de-portugal-00001          393     386  0.7124   \n",
       "2020 automovel-club-de-portugal-00001          383     347  0.6801   \n",
       "\n",
       "                                       total_scheduled  total_done  \\\n",
       "     k                                                               \n",
       "2015 automovel-club-de-portugal-00001              640         610   \n",
       "2016 automovel-club-de-portugal-00001              677         661   \n",
       "2017 automovel-club-de-portugal-00001              753         729   \n",
       "2018 automovel-club-de-portugal-00001              761         735   \n",
       "2019 automovel-club-de-portugal-00001              777         742   \n",
       "2020 automovel-club-de-portugal-00001              765         689   \n",
       "\n",
       "                                       total_rate  total_passed  \n",
       "     k                                                           \n",
       "2015 automovel-club-de-portugal-00001      0.7410       452.018  \n",
       "2016 automovel-club-de-portugal-00001      0.7247      479.0044  \n",
       "2017 automovel-club-de-portugal-00001      0.7188      524.0031  \n",
       "2018 automovel-club-de-portugal-00001      0.7429      545.9874  \n",
       "2019 automovel-club-de-portugal-00001      0.7574      561.9936  \n",
       "2020 automovel-club-de-portugal-00001      0.7402      510.0051  "
      ]
     },
     "execution_count": 36,
     "metadata": {},
     "output_type": "execute_result"
    }
   ],
   "source": [
    "T.loc[T['name_raw'].str.contains('club de portugal', case=False),:]"
   ]
  },
  {
   "cell_type": "markdown",
   "id": "cddc3a80-b601-40ac-8ee8-92aa413ba745",
   "metadata": {},
   "source": [
    "## Use the key to plot data"
   ]
  },
  {
   "cell_type": "code",
   "execution_count": 38,
   "id": "47f34b6e-db70-482b-9a1b-6c82c4bf8db8",
   "metadata": {},
   "outputs": [
    {
     "data": {
      "text/plain": [
       "<AxesSubplot:xlabel='None,k'>"
      ]
     },
     "execution_count": 38,
     "metadata": {},
     "output_type": "execute_result"
    },
    {
     "data": {
      "image/png": "[encoded data removed]",
      "text/plain": [
       "<Figure size 432x288 with 1 Axes>"
      ]
     },
     "metadata": {
      "needs_background": "light"
     },
     "output_type": "display_data"
    }
   ],
   "source": [
    "k = \"automovel-club-de-portugal-00001\"\n",
    "T.loc[[(\"2015\", k), (\"2016\", k), (\"2017\", k), (\"2018\", k), (\"2019\", k), (\"2020\", k) ], [\"d_rate\", \"t_rate\"]].plot.bar()"
   ]
  },
  {
   "cell_type": "markdown",
   "id": "c7bd5589-a5c2-47a7-b1c3-b0ede4ddc240",
   "metadata": {},
   "source": [
    "## Do scatter plots"
   ]
  },
  {
   "cell_type": "code",
   "execution_count": 39,
   "id": "a301de8b-7f26-4814-a05e-82bec6311e0f",
   "metadata": {},
   "outputs": [
    {
     "data": {
      "text/plain": [
       "<AxesSubplot:xlabel='d_done', ylabel='d_rate'>"
      ]
     },
     "execution_count": 39,
     "metadata": {},
     "output_type": "execute_result"
    },
    {
     "data": {
      "image/png": "[encoded data removed]",
      "text/plain": [
       "<Figure size 432x288 with 1 Axes>"
      ]
     },
     "metadata": {
      "needs_background": "light"
     },
     "output_type": "display_data"
    }
   ],
   "source": [
    "T.loc['2020'].plot.scatter(x=\"d_done\", y=\"d_rate\", alpha=0.5)"
   ]
  },
  {
   "cell_type": "code",
   "execution_count": 40,
   "id": "e4c98efb-61ea-4b9c-9938-a2def22f344b",
   "metadata": {},
   "outputs": [
    {
     "data": {
      "text/plain": [
       "<AxesSubplot:xlabel='t_rate', ylabel='d_rate'>"
      ]
     },
     "execution_count": 40,
     "metadata": {},
     "output_type": "execute_result"
    },
    {
     "data": {
      "image/png": "[encoded data removed]",
      "text/plain": [
       "<Figure size 432x288 with 1 Axes>"
      ]
     },
     "metadata": {
      "needs_background": "light"
     },
     "output_type": "display_data"
    }
   ],
   "source": [
    "T.plot.scatter(x=\"t_rate\", y=\"d_rate\", alpha=0.5)"
   ]
  },
  {
   "cell_type": "code",
   "execution_count": 41,
   "id": "794a43f5-e8e7-4f9e-99ef-31e5f66c6331",
   "metadata": {},
   "outputs": [
    {
     "data": {
      "text/html": [
       "<div>\n",
       "<style scoped>\n",
       "    .dataframe tbody tr th:only-of-type {\n",
       "        vertical-align: middle;\n",
       "    }\n",
       "\n",
       "    .dataframe tbody tr th {\n",
       "        vertical-align: top;\n",
       "    }\n",
       "\n",
       "    .dataframe thead th {\n",
       "        text-align: right;\n",
       "    }\n",
       "</style>\n",
       "<table border=\"1\" class=\"dataframe\">\n",
       "  <thead>\n",
       "    <tr style=\"text-align: right;\">\n",
       "      <th></th>\n",
       "      <th></th>\n",
       "      <th>nec</th>\n",
       "      <th>name_raw</th>\n",
       "      <th>t_scheduled</th>\n",
       "      <th>t_done</th>\n",
       "      <th>t_rate</th>\n",
       "      <th>d_scheduled</th>\n",
       "      <th>d_done</th>\n",
       "      <th>d_rate</th>\n",
       "      <th>total_scheduled</th>\n",
       "      <th>total_done</th>\n",
       "      <th>total_rate</th>\n",
       "      <th>total_passed</th>\n",
       "    </tr>\n",
       "    <tr>\n",
       "      <th></th>\n",
       "      <th>k</th>\n",
       "      <th></th>\n",
       "      <th></th>\n",
       "      <th></th>\n",
       "      <th></th>\n",
       "      <th></th>\n",
       "      <th></th>\n",
       "      <th></th>\n",
       "      <th></th>\n",
       "      <th></th>\n",
       "      <th></th>\n",
       "      <th></th>\n",
       "      <th></th>\n",
       "    </tr>\n",
       "  </thead>\n",
       "  <tbody>\n",
       "    <tr>\n",
       "      <th>2015</th>\n",
       "      <th>acp-00002</th>\n",
       "      <td>2</td>\n",
       "      <td>Escola De Condução Acp</td>\n",
       "      <td>296.0</td>\n",
       "      <td>289.0</td>\n",
       "      <td>0.8166</td>\n",
       "      <td>376</td>\n",
       "      <td>369</td>\n",
       "      <td>0.6938</td>\n",
       "      <td>672</td>\n",
       "      <td>658</td>\n",
       "      <td>0.7477</td>\n",
       "      <td>492.0096</td>\n",
       "    </tr>\n",
       "    <tr>\n",
       "      <th>2016</th>\n",
       "      <th>acp-00002</th>\n",
       "      <td>2</td>\n",
       "      <td>Escola De Condução Acp</td>\n",
       "      <td>241.0</td>\n",
       "      <td>234.0</td>\n",
       "      <td>0.7778</td>\n",
       "      <td>269</td>\n",
       "      <td>269</td>\n",
       "      <td>0.7138</td>\n",
       "      <td>510</td>\n",
       "      <td>503</td>\n",
       "      <td>0.7435</td>\n",
       "      <td>374.0174</td>\n",
       "    </tr>\n",
       "    <tr>\n",
       "      <th>2017</th>\n",
       "      <th>acp-00002</th>\n",
       "      <td>2</td>\n",
       "      <td>Escola De Condução Acp</td>\n",
       "      <td>299.0</td>\n",
       "      <td>293.0</td>\n",
       "      <td>0.8362</td>\n",
       "      <td>353</td>\n",
       "      <td>350</td>\n",
       "      <td>0.6714</td>\n",
       "      <td>652</td>\n",
       "      <td>643</td>\n",
       "      <td>0.7465</td>\n",
       "      <td>479.9966</td>\n",
       "    </tr>\n",
       "    <tr>\n",
       "      <th>2018</th>\n",
       "      <th>acp-00002</th>\n",
       "      <td>2</td>\n",
       "      <td>Escola De Condução Acp</td>\n",
       "      <td>207.0</td>\n",
       "      <td>206.0</td>\n",
       "      <td>0.7767</td>\n",
       "      <td>272</td>\n",
       "      <td>271</td>\n",
       "      <td>0.7159</td>\n",
       "      <td>479</td>\n",
       "      <td>477</td>\n",
       "      <td>0.7421</td>\n",
       "      <td>354.0091</td>\n",
       "    </tr>\n",
       "    <tr>\n",
       "      <th>2019</th>\n",
       "      <th>acp-00002</th>\n",
       "      <td>2</td>\n",
       "      <td>ESCOLA DE CONDUÇÃO ACP</td>\n",
       "      <td>200.0</td>\n",
       "      <td>196.0</td>\n",
       "      <td>0.8010</td>\n",
       "      <td>217</td>\n",
       "      <td>215</td>\n",
       "      <td>0.7023</td>\n",
       "      <td>417</td>\n",
       "      <td>411</td>\n",
       "      <td>0.7494</td>\n",
       "      <td>307.9905</td>\n",
       "    </tr>\n",
       "    <tr>\n",
       "      <th>2020</th>\n",
       "      <th>acp-00002</th>\n",
       "      <td>2</td>\n",
       "      <td>ESCOLA DE CONDUÇÃO ACP</td>\n",
       "      <td>192.0</td>\n",
       "      <td>180.0</td>\n",
       "      <td>0.7889</td>\n",
       "      <td>272</td>\n",
       "      <td>256</td>\n",
       "      <td>0.6094</td>\n",
       "      <td>464</td>\n",
       "      <td>436</td>\n",
       "      <td>0.6835</td>\n",
       "      <td>298.0084</td>\n",
       "    </tr>\n",
       "  </tbody>\n",
       "</table>\n",
       "</div>"
      ],
      "text/plain": [
       "                nec                name_raw  t_scheduled  t_done  t_rate  \\\n",
       "     k                                                                     \n",
       "2015 acp-00002    2  Escola De Condução Acp        296.0   289.0  0.8166   \n",
       "2016 acp-00002    2  Escola De Condução Acp        241.0   234.0  0.7778   \n",
       "2017 acp-00002    2  Escola De Condução Acp        299.0   293.0  0.8362   \n",
       "2018 acp-00002    2  Escola De Condução Acp        207.0   206.0  0.7767   \n",
       "2019 acp-00002    2  ESCOLA DE CONDUÇÃO ACP        200.0   196.0  0.8010   \n",
       "2020 acp-00002    2  ESCOLA DE CONDUÇÃO ACP        192.0   180.0  0.7889   \n",
       "\n",
       "                d_scheduled  d_done  d_rate  total_scheduled  total_done  \\\n",
       "     k                                                                     \n",
       "2015 acp-00002          376     369  0.6938              672         658   \n",
       "2016 acp-00002          269     269  0.7138              510         503   \n",
       "2017 acp-00002          353     350  0.6714              652         643   \n",
       "2018 acp-00002          272     271  0.7159              479         477   \n",
       "2019 acp-00002          217     215  0.7023              417         411   \n",
       "2020 acp-00002          272     256  0.6094              464         436   \n",
       "\n",
       "                total_rate  total_passed  \n",
       "     k                                    \n",
       "2015 acp-00002      0.7477      492.0096  \n",
       "2016 acp-00002      0.7435      374.0174  \n",
       "2017 acp-00002      0.7465      479.9966  \n",
       "2018 acp-00002      0.7421      354.0091  \n",
       "2019 acp-00002      0.7494      307.9905  \n",
       "2020 acp-00002      0.6835      298.0084  "
      ]
     },
     "execution_count": 41,
     "metadata": {},
     "output_type": "execute_result"
    }
   ],
   "source": [
    "T.loc[T['name_raw'].str.contains('acp', case=False),:]"
   ]
  }
 ],
 "metadata": {
  "kernelspec": {
   "display_name": "Python 3 (ipykernel)",
   "language": "python",
   "name": "python3"
  },
  "language_info": {
   "codemirror_mode": {
    "name": "ipython",
    "version": 3
   },
   "file_extension": ".py",
   "mimetype": "text/x-python",
   "name": "python",
   "nbconvert_exporter": "python",
   "pygments_lexer": "ipython3",
   "version": "3.10.2"
  }
 },
 "nbformat": 4,
 "nbformat_minor": 5
}
